{
  "cells": [
    {
      "cell_type": "markdown",
      "metadata": {
        "id": "view-in-github",
        "colab_type": "text"
      },
      "source": [
        "<a href=\"https://colab.research.google.com/github/leonss18/coursera/blob/main/MyFirst_JupyterNotebook.ipynb\" target=\"_parent\"><img src=\"https://colab.research.google.com/assets/colab-badge.svg\" alt=\"Open In Colab\"/></a>"
      ]
    },
    {
      "cell_type": "code",
      "execution_count": null,
      "metadata": {
        "id": "dAtMS0tvDxwY",
        "outputId": "3fbdc727-4bcc-42cb-9577-b8e9108ea312"
      },
      "outputs": [
        {
          "data": {
            "text/plain": [
              "'Hello my first execise!'"
            ]
          },
          "execution_count": 1,
          "metadata": {},
          "output_type": "execute_result"
        }
      ],
      "source": [
        "def hello():\n",
        "    return \"Hello my first execise!\"\n",
        "hello()"
      ]
    },
    {
      "cell_type": "code",
      "execution_count": null,
      "metadata": {
        "id": "thlGJH4kDxwa",
        "outputId": "0ea8db87-896e-4006-d5e6-e77650f3762e"
      },
      "outputs": [
        {
          "name": "stdout",
          "output_type": "stream",
          "text": [
            "hello world\n"
          ]
        }
      ],
      "source": [
        "print(\"hello world\")"
      ]
    },
    {
      "cell_type": "markdown",
      "metadata": {
        "id": "UrxoqjHIDxwb"
      },
      "source": [
        "# Is very important \n",
        "## Indentation\n",
        "### if you forgot to put the correct indentation, sorry you are dead!"
      ]
    },
    {
      "cell_type": "markdown",
      "metadata": {
        "id": "wJyNY1LPDxwe"
      },
      "source": [
        "My thanks to [Duke University](https://en.wikipedia.org/wiki/Duke_University) "
      ]
    },
    {
      "cell_type": "markdown",
      "metadata": {
        "id": "aXwqG2KaDxwe"
      },
      "source": [
        "### Lets go to the next lesson :-)"
      ]
    },
    {
      "cell_type": "code",
      "execution_count": null,
      "metadata": {
        "id": "Bmw-3rViDxwf"
      },
      "outputs": [],
      "source": []
    }
  ],
  "metadata": {
    "kernelspec": {
      "display_name": "Python 3",
      "language": "python",
      "name": "python3"
    },
    "language_info": {
      "codemirror_mode": {
        "name": "ipython",
        "version": 3
      },
      "file_extension": ".py",
      "mimetype": "text/x-python",
      "name": "python",
      "nbconvert_exporter": "python",
      "pygments_lexer": "ipython3",
      "version": "3.7.6"
    },
    "colab": {
      "name": "MyFirst_JupyterNotebook.ipynb",
      "provenance": [],
      "include_colab_link": true
    }
  },
  "nbformat": 4,
  "nbformat_minor": 0
}